{
  "nbformat": 4,
  "nbformat_minor": 0,
  "metadata": {
    "colab": {
      "provenance": []
    },
    "kernelspec": {
      "name": "python3",
      "display_name": "Python 3"
    },
    "language_info": {
      "name": "python"
    }
  },
  "cells": [
    {
      "cell_type": "markdown",
      "source": [
        "# Titanic Dataset Logistic Regression"
      ],
      "metadata": {
        "id": "XoEYZtt2Zfnw"
      }
    },
    {
      "cell_type": "code",
      "source": [
        " # Importing libraries\n",
        "import pandas as pd\n",
        "import numpy as np\n",
        "import matplotlib.pyplot as plt\n",
        "from pandas.plotting import scatter_matrix\n",
        "%matplotlib inline\n",
        "\n",
        "import seaborn as sns\n",
        "\n",
        "from sklearn.linear_model import LogisticRegression\n",
        "from sklearn.model_selection import train_test_split\n",
        "\n",
        "from sklearn.metrics import confusion_matrix\n",
        "from sklearn.metrics import classification_report\n",
        "from sklearn.metrics import accuracy_score\n",
        "from sklearn.metrics import precision_score\n",
        "from sklearn.metrics import recall_score\n",
        "from sklearn.metrics import f1_score\n",
        "from sklearn import metrics\n"
      ],
      "metadata": {
        "id": "5y8u0CzrZpC-"
      },
      "execution_count": 3,
      "outputs": []
    },
    {
      "cell_type": "markdown",
      "source": [
        "## EDA"
      ],
      "metadata": {
        "id": "6hHF0VRLvgpJ"
      }
    },
    {
      "cell_type": "code",
      "source": [
        "titanic_train = pd.read_csv(\"/content/drive/MyDrive/ML Datasets/Classification/titanic_train.csv\")"
      ],
      "metadata": {
        "id": "4VEY2B1EcRgH"
      },
      "execution_count": 4,
      "outputs": []
    },
    {
      "cell_type": "code",
      "source": [
        "titanic_train.shape"
      ],
      "metadata": {
        "colab": {
          "base_uri": "https://localhost:8080/"
        },
        "id": "xgBrcQ_JeDC3",
        "outputId": "c2fb9211-4460-48e6-af99-54527334c9c7"
      },
      "execution_count": 5,
      "outputs": [
        {
          "output_type": "execute_result",
          "data": {
            "text/plain": [
              "(891, 12)"
            ]
          },
          "metadata": {},
          "execution_count": 5
        }
      ]
    },
    {
      "cell_type": "code",
      "source": [
        "titanic_train.Survived.value_counts()"
      ],
      "metadata": {
        "colab": {
          "base_uri": "https://localhost:8080/"
        },
        "id": "6zdlM-usewR-",
        "outputId": "0fd02aea-354b-4c69-eeac-913bddbf5571"
      },
      "execution_count": 6,
      "outputs": [
        {
          "output_type": "execute_result",
          "data": {
            "text/plain": [
              "0    549\n",
              "1    342\n",
              "Name: Survived, dtype: int64"
            ]
          },
          "metadata": {},
          "execution_count": 6
        }
      ]
    },
    {
      "cell_type": "code",
      "source": [
        "titanic_train.Sex.value_counts()"
      ],
      "metadata": {
        "colab": {
          "base_uri": "https://localhost:8080/"
        },
        "id": "Weo6BnuYfMdn",
        "outputId": "84c4f3f8-9f64-44b8-e3eb-667a1b3f04bd"
      },
      "execution_count": 7,
      "outputs": [
        {
          "output_type": "execute_result",
          "data": {
            "text/plain": [
              "male      577\n",
              "female    314\n",
              "Name: Sex, dtype: int64"
            ]
          },
          "metadata": {},
          "execution_count": 7
        }
      ]
    },
    {
      "cell_type": "code",
      "source": [
        "titanic_train.Embarked.value_counts()"
      ],
      "metadata": {
        "colab": {
          "base_uri": "https://localhost:8080/"
        },
        "id": "irfeXenwfVHm",
        "outputId": "1200762d-5473-4b6c-81b2-0c3f7c436824"
      },
      "execution_count": 8,
      "outputs": [
        {
          "output_type": "execute_result",
          "data": {
            "text/plain": [
              "S    644\n",
              "C    168\n",
              "Q     77\n",
              "Name: Embarked, dtype: int64"
            ]
          },
          "metadata": {},
          "execution_count": 8
        }
      ]
    },
    {
      "cell_type": "markdown",
      "source": [
        "## Handling Null Values"
      ],
      "metadata": {
        "id": "ELhYz3_vvplZ"
      }
    },
    {
      "cell_type": "code",
      "source": [
        "titanic_train.isnull().sum()"
      ],
      "metadata": {
        "colab": {
          "base_uri": "https://localhost:8080/"
        },
        "id": "73hLApudfbLV",
        "outputId": "93f7016d-6b56-450f-a33c-e61954f49730"
      },
      "execution_count": 9,
      "outputs": [
        {
          "output_type": "execute_result",
          "data": {
            "text/plain": [
              "PassengerId      0\n",
              "Survived         0\n",
              "Pclass           0\n",
              "Name             0\n",
              "Sex              0\n",
              "Age            177\n",
              "SibSp            0\n",
              "Parch            0\n",
              "Ticket           0\n",
              "Fare             0\n",
              "Cabin          687\n",
              "Embarked         2\n",
              "dtype: int64"
            ]
          },
          "metadata": {},
          "execution_count": 9
        }
      ]
    },
    {
      "cell_type": "code",
      "source": [
        "titanic_train = titanic_train.drop(['PassengerId','Name','Cabin','Ticket'], axis = 1)"
      ],
      "metadata": {
        "id": "t5mb63r3fwOG"
      },
      "execution_count": 10,
      "outputs": []
    },
    {
      "cell_type": "code",
      "source": [
        "titanic_train.head()"
      ],
      "metadata": {
        "colab": {
          "base_uri": "https://localhost:8080/",
          "height": 206
        },
        "id": "DhKG1euXgl5W",
        "outputId": "6bb2ea4f-3ad3-491e-96d0-57ac442b9f6a"
      },
      "execution_count": 11,
      "outputs": [
        {
          "output_type": "execute_result",
          "data": {
            "text/plain": [
              "   Survived  Pclass     Sex   Age  SibSp  Parch     Fare Embarked\n",
              "0         0       3    male  22.0      1      0   7.2500        S\n",
              "1         1       1  female  38.0      1      0  71.2833        C\n",
              "2         1       3  female  26.0      0      0   7.9250        S\n",
              "3         1       1  female  35.0      1      0  53.1000        S\n",
              "4         0       3    male  35.0      0      0   8.0500        S"
            ],
            "text/html": [
              "\n",
              "\n",
              "  <div id=\"df-9b0991e5-99af-435b-9c6a-c5cdb2af7061\">\n",
              "    <div class=\"colab-df-container\">\n",
              "      <div>\n",
              "<style scoped>\n",
              "    .dataframe tbody tr th:only-of-type {\n",
              "        vertical-align: middle;\n",
              "    }\n",
              "\n",
              "    .dataframe tbody tr th {\n",
              "        vertical-align: top;\n",
              "    }\n",
              "\n",
              "    .dataframe thead th {\n",
              "        text-align: right;\n",
              "    }\n",
              "</style>\n",
              "<table border=\"1\" class=\"dataframe\">\n",
              "  <thead>\n",
              "    <tr style=\"text-align: right;\">\n",
              "      <th></th>\n",
              "      <th>Survived</th>\n",
              "      <th>Pclass</th>\n",
              "      <th>Sex</th>\n",
              "      <th>Age</th>\n",
              "      <th>SibSp</th>\n",
              "      <th>Parch</th>\n",
              "      <th>Fare</th>\n",
              "      <th>Embarked</th>\n",
              "    </tr>\n",
              "  </thead>\n",
              "  <tbody>\n",
              "    <tr>\n",
              "      <th>0</th>\n",
              "      <td>0</td>\n",
              "      <td>3</td>\n",
              "      <td>male</td>\n",
              "      <td>22.0</td>\n",
              "      <td>1</td>\n",
              "      <td>0</td>\n",
              "      <td>7.2500</td>\n",
              "      <td>S</td>\n",
              "    </tr>\n",
              "    <tr>\n",
              "      <th>1</th>\n",
              "      <td>1</td>\n",
              "      <td>1</td>\n",
              "      <td>female</td>\n",
              "      <td>38.0</td>\n",
              "      <td>1</td>\n",
              "      <td>0</td>\n",
              "      <td>71.2833</td>\n",
              "      <td>C</td>\n",
              "    </tr>\n",
              "    <tr>\n",
              "      <th>2</th>\n",
              "      <td>1</td>\n",
              "      <td>3</td>\n",
              "      <td>female</td>\n",
              "      <td>26.0</td>\n",
              "      <td>0</td>\n",
              "      <td>0</td>\n",
              "      <td>7.9250</td>\n",
              "      <td>S</td>\n",
              "    </tr>\n",
              "    <tr>\n",
              "      <th>3</th>\n",
              "      <td>1</td>\n",
              "      <td>1</td>\n",
              "      <td>female</td>\n",
              "      <td>35.0</td>\n",
              "      <td>1</td>\n",
              "      <td>0</td>\n",
              "      <td>53.1000</td>\n",
              "      <td>S</td>\n",
              "    </tr>\n",
              "    <tr>\n",
              "      <th>4</th>\n",
              "      <td>0</td>\n",
              "      <td>3</td>\n",
              "      <td>male</td>\n",
              "      <td>35.0</td>\n",
              "      <td>0</td>\n",
              "      <td>0</td>\n",
              "      <td>8.0500</td>\n",
              "      <td>S</td>\n",
              "    </tr>\n",
              "  </tbody>\n",
              "</table>\n",
              "</div>\n",
              "      <button class=\"colab-df-convert\" onclick=\"convertToInteractive('df-9b0991e5-99af-435b-9c6a-c5cdb2af7061')\"\n",
              "              title=\"Convert this dataframe to an interactive table.\"\n",
              "              style=\"display:none;\">\n",
              "\n",
              "  <svg xmlns=\"http://www.w3.org/2000/svg\" height=\"24px\"viewBox=\"0 0 24 24\"\n",
              "       width=\"24px\">\n",
              "    <path d=\"M0 0h24v24H0V0z\" fill=\"none\"/>\n",
              "    <path d=\"M18.56 5.44l.94 2.06.94-2.06 2.06-.94-2.06-.94-.94-2.06-.94 2.06-2.06.94zm-11 1L8.5 8.5l.94-2.06 2.06-.94-2.06-.94L8.5 2.5l-.94 2.06-2.06.94zm10 10l.94 2.06.94-2.06 2.06-.94-2.06-.94-.94-2.06-.94 2.06-2.06.94z\"/><path d=\"M17.41 7.96l-1.37-1.37c-.4-.4-.92-.59-1.43-.59-.52 0-1.04.2-1.43.59L10.3 9.45l-7.72 7.72c-.78.78-.78 2.05 0 2.83L4 21.41c.39.39.9.59 1.41.59.51 0 1.02-.2 1.41-.59l7.78-7.78 2.81-2.81c.8-.78.8-2.07 0-2.86zM5.41 20L4 18.59l7.72-7.72 1.47 1.35L5.41 20z\"/>\n",
              "  </svg>\n",
              "      </button>\n",
              "\n",
              "\n",
              "\n",
              "    <div id=\"df-d8037c29-a6ad-4c0e-8ce3-6ac2ac8185c1\">\n",
              "      <button class=\"colab-df-quickchart\" onclick=\"quickchart('df-d8037c29-a6ad-4c0e-8ce3-6ac2ac8185c1')\"\n",
              "              title=\"Suggest charts.\"\n",
              "              style=\"display:none;\">\n",
              "\n",
              "<svg xmlns=\"http://www.w3.org/2000/svg\" height=\"24px\"viewBox=\"0 0 24 24\"\n",
              "     width=\"24px\">\n",
              "    <g>\n",
              "        <path d=\"M19 3H5c-1.1 0-2 .9-2 2v14c0 1.1.9 2 2 2h14c1.1 0 2-.9 2-2V5c0-1.1-.9-2-2-2zM9 17H7v-7h2v7zm4 0h-2V7h2v10zm4 0h-2v-4h2v4z\"/>\n",
              "    </g>\n",
              "</svg>\n",
              "      </button>\n",
              "    </div>\n",
              "\n",
              "<style>\n",
              "  .colab-df-quickchart {\n",
              "    background-color: #E8F0FE;\n",
              "    border: none;\n",
              "    border-radius: 50%;\n",
              "    cursor: pointer;\n",
              "    display: none;\n",
              "    fill: #1967D2;\n",
              "    height: 32px;\n",
              "    padding: 0 0 0 0;\n",
              "    width: 32px;\n",
              "  }\n",
              "\n",
              "  .colab-df-quickchart:hover {\n",
              "    background-color: #E2EBFA;\n",
              "    box-shadow: 0px 1px 2px rgba(60, 64, 67, 0.3), 0px 1px 3px 1px rgba(60, 64, 67, 0.15);\n",
              "    fill: #174EA6;\n",
              "  }\n",
              "\n",
              "  [theme=dark] .colab-df-quickchart {\n",
              "    background-color: #3B4455;\n",
              "    fill: #D2E3FC;\n",
              "  }\n",
              "\n",
              "  [theme=dark] .colab-df-quickchart:hover {\n",
              "    background-color: #434B5C;\n",
              "    box-shadow: 0px 1px 3px 1px rgba(0, 0, 0, 0.15);\n",
              "    filter: drop-shadow(0px 1px 2px rgba(0, 0, 0, 0.3));\n",
              "    fill: #FFFFFF;\n",
              "  }\n",
              "</style>\n",
              "\n",
              "    <script>\n",
              "      async function quickchart(key) {\n",
              "        const containerElement = document.querySelector('#' + key);\n",
              "        const charts = await google.colab.kernel.invokeFunction(\n",
              "            'suggestCharts', [key], {});\n",
              "      }\n",
              "    </script>\n",
              "\n",
              "      <script>\n",
              "\n",
              "function displayQuickchartButton(domScope) {\n",
              "  let quickchartButtonEl =\n",
              "    domScope.querySelector('#df-d8037c29-a6ad-4c0e-8ce3-6ac2ac8185c1 button.colab-df-quickchart');\n",
              "  quickchartButtonEl.style.display =\n",
              "    google.colab.kernel.accessAllowed ? 'block' : 'none';\n",
              "}\n",
              "\n",
              "        displayQuickchartButton(document);\n",
              "      </script>\n",
              "      <style>\n",
              "    .colab-df-container {\n",
              "      display:flex;\n",
              "      flex-wrap:wrap;\n",
              "      gap: 12px;\n",
              "    }\n",
              "\n",
              "    .colab-df-convert {\n",
              "      background-color: #E8F0FE;\n",
              "      border: none;\n",
              "      border-radius: 50%;\n",
              "      cursor: pointer;\n",
              "      display: none;\n",
              "      fill: #1967D2;\n",
              "      height: 32px;\n",
              "      padding: 0 0 0 0;\n",
              "      width: 32px;\n",
              "    }\n",
              "\n",
              "    .colab-df-convert:hover {\n",
              "      background-color: #E2EBFA;\n",
              "      box-shadow: 0px 1px 2px rgba(60, 64, 67, 0.3), 0px 1px 3px 1px rgba(60, 64, 67, 0.15);\n",
              "      fill: #174EA6;\n",
              "    }\n",
              "\n",
              "    [theme=dark] .colab-df-convert {\n",
              "      background-color: #3B4455;\n",
              "      fill: #D2E3FC;\n",
              "    }\n",
              "\n",
              "    [theme=dark] .colab-df-convert:hover {\n",
              "      background-color: #434B5C;\n",
              "      box-shadow: 0px 1px 3px 1px rgba(0, 0, 0, 0.15);\n",
              "      filter: drop-shadow(0px 1px 2px rgba(0, 0, 0, 0.3));\n",
              "      fill: #FFFFFF;\n",
              "    }\n",
              "  </style>\n",
              "\n",
              "      <script>\n",
              "        const buttonEl =\n",
              "          document.querySelector('#df-9b0991e5-99af-435b-9c6a-c5cdb2af7061 button.colab-df-convert');\n",
              "        buttonEl.style.display =\n",
              "          google.colab.kernel.accessAllowed ? 'block' : 'none';\n",
              "\n",
              "        async function convertToInteractive(key) {\n",
              "          const element = document.querySelector('#df-9b0991e5-99af-435b-9c6a-c5cdb2af7061');\n",
              "          const dataTable =\n",
              "            await google.colab.kernel.invokeFunction('convertToInteractive',\n",
              "                                                     [key], {});\n",
              "          if (!dataTable) return;\n",
              "\n",
              "          const docLinkHtml = 'Like what you see? Visit the ' +\n",
              "            '<a target=\"_blank\" href=https://colab.research.google.com/notebooks/data_table.ipynb>data table notebook</a>'\n",
              "            + ' to learn more about interactive tables.';\n",
              "          element.innerHTML = '';\n",
              "          dataTable['output_type'] = 'display_data';\n",
              "          await google.colab.output.renderOutput(dataTable, element);\n",
              "          const docLink = document.createElement('div');\n",
              "          docLink.innerHTML = docLinkHtml;\n",
              "          element.appendChild(docLink);\n",
              "        }\n",
              "      </script>\n",
              "    </div>\n",
              "  </div>\n"
            ]
          },
          "metadata": {},
          "execution_count": 11
        }
      ]
    },
    {
      "cell_type": "code",
      "source": [
        "titanic_train.groupby('Pclass')['Age'].median()"
      ],
      "metadata": {
        "colab": {
          "base_uri": "https://localhost:8080/"
        },
        "id": "8gkRZGgEi3JJ",
        "outputId": "5ec925a4-e1f0-488b-f9a6-cde78653c8a2"
      },
      "execution_count": 13,
      "outputs": [
        {
          "output_type": "execute_result",
          "data": {
            "text/plain": [
              "Pclass\n",
              "1    37.0\n",
              "2    29.0\n",
              "3    24.0\n",
              "Name: Age, dtype: float64"
            ]
          },
          "metadata": {},
          "execution_count": 13
        }
      ]
    },
    {
      "cell_type": "code",
      "source": [
        "def age_approx(cols):\n",
        "  age = cols[0]\n",
        "  p_class = cols[1]\n",
        "  if pd.isnull(age):\n",
        "    if p_class == 1:\n",
        "      return 37\n",
        "    elif p_class == 2:\n",
        "      return 29\n",
        "    else :\n",
        "      return 24\n",
        "  return age\n"
      ],
      "metadata": {
        "id": "ciuvj96YiBy-"
      },
      "execution_count": 16,
      "outputs": []
    },
    {
      "cell_type": "code",
      "source": [
        "titanic_train['Age'] = titanic_train[['Age','Pclass']].apply(age_approx,axis = 1)"
      ],
      "metadata": {
        "id": "dTLnla9hkE2q"
      },
      "execution_count": 17,
      "outputs": []
    },
    {
      "cell_type": "code",
      "source": [
        "titanic_train.isnull().sum()"
      ],
      "metadata": {
        "colab": {
          "base_uri": "https://localhost:8080/"
        },
        "id": "CiKqjkOQmd2S",
        "outputId": "6a4b8aea-ec11-4804-ffb8-9155a4544e1a"
      },
      "execution_count": 18,
      "outputs": [
        {
          "output_type": "execute_result",
          "data": {
            "text/plain": [
              "Survived    0\n",
              "Pclass      0\n",
              "Sex         0\n",
              "Age         0\n",
              "SibSp       0\n",
              "Parch       0\n",
              "Fare        0\n",
              "Embarked    2\n",
              "dtype: int64"
            ]
          },
          "metadata": {},
          "execution_count": 18
        }
      ]
    },
    {
      "cell_type": "code",
      "source": [
        "titanic_train.dropna(inplace = True)\n",
        "titanic_train.isnull().sum()"
      ],
      "metadata": {
        "colab": {
          "base_uri": "https://localhost:8080/"
        },
        "id": "OVlM2ppOoP85",
        "outputId": "982066b4-9e63-4038-a535-7345a13c9f25"
      },
      "execution_count": 19,
      "outputs": [
        {
          "output_type": "execute_result",
          "data": {
            "text/plain": [
              "Survived    0\n",
              "Pclass      0\n",
              "Sex         0\n",
              "Age         0\n",
              "SibSp       0\n",
              "Parch       0\n",
              "Fare        0\n",
              "Embarked    0\n",
              "dtype: int64"
            ]
          },
          "metadata": {},
          "execution_count": 19
        }
      ]
    },
    {
      "cell_type": "markdown",
      "source": [
        "## Feature Engineering"
      ],
      "metadata": {
        "id": "wx37tQAgvuVR"
      }
    },
    {
      "cell_type": "code",
      "source": [
        "titanic_train.dtypes"
      ],
      "metadata": {
        "colab": {
          "base_uri": "https://localhost:8080/"
        },
        "id": "I0YJoGwtod85",
        "outputId": "e585f5b3-c09a-44ac-f0d1-edec424aff19"
      },
      "execution_count": 20,
      "outputs": [
        {
          "output_type": "execute_result",
          "data": {
            "text/plain": [
              "Survived      int64\n",
              "Pclass        int64\n",
              "Sex          object\n",
              "Age         float64\n",
              "SibSp         int64\n",
              "Parch         int64\n",
              "Fare        float64\n",
              "Embarked     object\n",
              "dtype: object"
            ]
          },
          "metadata": {},
          "execution_count": 20
        }
      ]
    },
    {
      "cell_type": "code",
      "source": [
        "titanic_train_dummied = pd.get_dummies(titanic_train, columns = [\"Embarked\",\"Sex\"])"
      ],
      "metadata": {
        "id": "LXOiyYu3oknB"
      },
      "execution_count": 21,
      "outputs": []
    },
    {
      "cell_type": "code",
      "source": [
        "titanic_train_dummied.head()"
      ],
      "metadata": {
        "colab": {
          "base_uri": "https://localhost:8080/",
          "height": 206
        },
        "id": "gZlBru6EpRnB",
        "outputId": "9cdc3a42-3f2f-4ebf-cb39-c246658a9a17"
      },
      "execution_count": 22,
      "outputs": [
        {
          "output_type": "execute_result",
          "data": {
            "text/plain": [
              "   Survived  Pclass   Age  SibSp  Parch     Fare  Embarked_C  Embarked_Q  \\\n",
              "0         0       3  22.0      1      0   7.2500           0           0   \n",
              "1         1       1  38.0      1      0  71.2833           1           0   \n",
              "2         1       3  26.0      0      0   7.9250           0           0   \n",
              "3         1       1  35.0      1      0  53.1000           0           0   \n",
              "4         0       3  35.0      0      0   8.0500           0           0   \n",
              "\n",
              "   Embarked_S  Sex_female  Sex_male  \n",
              "0           1           0         1  \n",
              "1           0           1         0  \n",
              "2           1           1         0  \n",
              "3           1           1         0  \n",
              "4           1           0         1  "
            ],
            "text/html": [
              "\n",
              "\n",
              "  <div id=\"df-3e6280cd-ec26-439f-9231-6204558de9e4\">\n",
              "    <div class=\"colab-df-container\">\n",
              "      <div>\n",
              "<style scoped>\n",
              "    .dataframe tbody tr th:only-of-type {\n",
              "        vertical-align: middle;\n",
              "    }\n",
              "\n",
              "    .dataframe tbody tr th {\n",
              "        vertical-align: top;\n",
              "    }\n",
              "\n",
              "    .dataframe thead th {\n",
              "        text-align: right;\n",
              "    }\n",
              "</style>\n",
              "<table border=\"1\" class=\"dataframe\">\n",
              "  <thead>\n",
              "    <tr style=\"text-align: right;\">\n",
              "      <th></th>\n",
              "      <th>Survived</th>\n",
              "      <th>Pclass</th>\n",
              "      <th>Age</th>\n",
              "      <th>SibSp</th>\n",
              "      <th>Parch</th>\n",
              "      <th>Fare</th>\n",
              "      <th>Embarked_C</th>\n",
              "      <th>Embarked_Q</th>\n",
              "      <th>Embarked_S</th>\n",
              "      <th>Sex_female</th>\n",
              "      <th>Sex_male</th>\n",
              "    </tr>\n",
              "  </thead>\n",
              "  <tbody>\n",
              "    <tr>\n",
              "      <th>0</th>\n",
              "      <td>0</td>\n",
              "      <td>3</td>\n",
              "      <td>22.0</td>\n",
              "      <td>1</td>\n",
              "      <td>0</td>\n",
              "      <td>7.2500</td>\n",
              "      <td>0</td>\n",
              "      <td>0</td>\n",
              "      <td>1</td>\n",
              "      <td>0</td>\n",
              "      <td>1</td>\n",
              "    </tr>\n",
              "    <tr>\n",
              "      <th>1</th>\n",
              "      <td>1</td>\n",
              "      <td>1</td>\n",
              "      <td>38.0</td>\n",
              "      <td>1</td>\n",
              "      <td>0</td>\n",
              "      <td>71.2833</td>\n",
              "      <td>1</td>\n",
              "      <td>0</td>\n",
              "      <td>0</td>\n",
              "      <td>1</td>\n",
              "      <td>0</td>\n",
              "    </tr>\n",
              "    <tr>\n",
              "      <th>2</th>\n",
              "      <td>1</td>\n",
              "      <td>3</td>\n",
              "      <td>26.0</td>\n",
              "      <td>0</td>\n",
              "      <td>0</td>\n",
              "      <td>7.9250</td>\n",
              "      <td>0</td>\n",
              "      <td>0</td>\n",
              "      <td>1</td>\n",
              "      <td>1</td>\n",
              "      <td>0</td>\n",
              "    </tr>\n",
              "    <tr>\n",
              "      <th>3</th>\n",
              "      <td>1</td>\n",
              "      <td>1</td>\n",
              "      <td>35.0</td>\n",
              "      <td>1</td>\n",
              "      <td>0</td>\n",
              "      <td>53.1000</td>\n",
              "      <td>0</td>\n",
              "      <td>0</td>\n",
              "      <td>1</td>\n",
              "      <td>1</td>\n",
              "      <td>0</td>\n",
              "    </tr>\n",
              "    <tr>\n",
              "      <th>4</th>\n",
              "      <td>0</td>\n",
              "      <td>3</td>\n",
              "      <td>35.0</td>\n",
              "      <td>0</td>\n",
              "      <td>0</td>\n",
              "      <td>8.0500</td>\n",
              "      <td>0</td>\n",
              "      <td>0</td>\n",
              "      <td>1</td>\n",
              "      <td>0</td>\n",
              "      <td>1</td>\n",
              "    </tr>\n",
              "  </tbody>\n",
              "</table>\n",
              "</div>\n",
              "      <button class=\"colab-df-convert\" onclick=\"convertToInteractive('df-3e6280cd-ec26-439f-9231-6204558de9e4')\"\n",
              "              title=\"Convert this dataframe to an interactive table.\"\n",
              "              style=\"display:none;\">\n",
              "\n",
              "  <svg xmlns=\"http://www.w3.org/2000/svg\" height=\"24px\"viewBox=\"0 0 24 24\"\n",
              "       width=\"24px\">\n",
              "    <path d=\"M0 0h24v24H0V0z\" fill=\"none\"/>\n",
              "    <path d=\"M18.56 5.44l.94 2.06.94-2.06 2.06-.94-2.06-.94-.94-2.06-.94 2.06-2.06.94zm-11 1L8.5 8.5l.94-2.06 2.06-.94-2.06-.94L8.5 2.5l-.94 2.06-2.06.94zm10 10l.94 2.06.94-2.06 2.06-.94-2.06-.94-.94-2.06-.94 2.06-2.06.94z\"/><path d=\"M17.41 7.96l-1.37-1.37c-.4-.4-.92-.59-1.43-.59-.52 0-1.04.2-1.43.59L10.3 9.45l-7.72 7.72c-.78.78-.78 2.05 0 2.83L4 21.41c.39.39.9.59 1.41.59.51 0 1.02-.2 1.41-.59l7.78-7.78 2.81-2.81c.8-.78.8-2.07 0-2.86zM5.41 20L4 18.59l7.72-7.72 1.47 1.35L5.41 20z\"/>\n",
              "  </svg>\n",
              "      </button>\n",
              "\n",
              "\n",
              "\n",
              "    <div id=\"df-5bdca0c0-377a-456b-8d87-1c7844ba5734\">\n",
              "      <button class=\"colab-df-quickchart\" onclick=\"quickchart('df-5bdca0c0-377a-456b-8d87-1c7844ba5734')\"\n",
              "              title=\"Suggest charts.\"\n",
              "              style=\"display:none;\">\n",
              "\n",
              "<svg xmlns=\"http://www.w3.org/2000/svg\" height=\"24px\"viewBox=\"0 0 24 24\"\n",
              "     width=\"24px\">\n",
              "    <g>\n",
              "        <path d=\"M19 3H5c-1.1 0-2 .9-2 2v14c0 1.1.9 2 2 2h14c1.1 0 2-.9 2-2V5c0-1.1-.9-2-2-2zM9 17H7v-7h2v7zm4 0h-2V7h2v10zm4 0h-2v-4h2v4z\"/>\n",
              "    </g>\n",
              "</svg>\n",
              "      </button>\n",
              "    </div>\n",
              "\n",
              "<style>\n",
              "  .colab-df-quickchart {\n",
              "    background-color: #E8F0FE;\n",
              "    border: none;\n",
              "    border-radius: 50%;\n",
              "    cursor: pointer;\n",
              "    display: none;\n",
              "    fill: #1967D2;\n",
              "    height: 32px;\n",
              "    padding: 0 0 0 0;\n",
              "    width: 32px;\n",
              "  }\n",
              "\n",
              "  .colab-df-quickchart:hover {\n",
              "    background-color: #E2EBFA;\n",
              "    box-shadow: 0px 1px 2px rgba(60, 64, 67, 0.3), 0px 1px 3px 1px rgba(60, 64, 67, 0.15);\n",
              "    fill: #174EA6;\n",
              "  }\n",
              "\n",
              "  [theme=dark] .colab-df-quickchart {\n",
              "    background-color: #3B4455;\n",
              "    fill: #D2E3FC;\n",
              "  }\n",
              "\n",
              "  [theme=dark] .colab-df-quickchart:hover {\n",
              "    background-color: #434B5C;\n",
              "    box-shadow: 0px 1px 3px 1px rgba(0, 0, 0, 0.15);\n",
              "    filter: drop-shadow(0px 1px 2px rgba(0, 0, 0, 0.3));\n",
              "    fill: #FFFFFF;\n",
              "  }\n",
              "</style>\n",
              "\n",
              "    <script>\n",
              "      async function quickchart(key) {\n",
              "        const containerElement = document.querySelector('#' + key);\n",
              "        const charts = await google.colab.kernel.invokeFunction(\n",
              "            'suggestCharts', [key], {});\n",
              "      }\n",
              "    </script>\n",
              "\n",
              "      <script>\n",
              "\n",
              "function displayQuickchartButton(domScope) {\n",
              "  let quickchartButtonEl =\n",
              "    domScope.querySelector('#df-5bdca0c0-377a-456b-8d87-1c7844ba5734 button.colab-df-quickchart');\n",
              "  quickchartButtonEl.style.display =\n",
              "    google.colab.kernel.accessAllowed ? 'block' : 'none';\n",
              "}\n",
              "\n",
              "        displayQuickchartButton(document);\n",
              "      </script>\n",
              "      <style>\n",
              "    .colab-df-container {\n",
              "      display:flex;\n",
              "      flex-wrap:wrap;\n",
              "      gap: 12px;\n",
              "    }\n",
              "\n",
              "    .colab-df-convert {\n",
              "      background-color: #E8F0FE;\n",
              "      border: none;\n",
              "      border-radius: 50%;\n",
              "      cursor: pointer;\n",
              "      display: none;\n",
              "      fill: #1967D2;\n",
              "      height: 32px;\n",
              "      padding: 0 0 0 0;\n",
              "      width: 32px;\n",
              "    }\n",
              "\n",
              "    .colab-df-convert:hover {\n",
              "      background-color: #E2EBFA;\n",
              "      box-shadow: 0px 1px 2px rgba(60, 64, 67, 0.3), 0px 1px 3px 1px rgba(60, 64, 67, 0.15);\n",
              "      fill: #174EA6;\n",
              "    }\n",
              "\n",
              "    [theme=dark] .colab-df-convert {\n",
              "      background-color: #3B4455;\n",
              "      fill: #D2E3FC;\n",
              "    }\n",
              "\n",
              "    [theme=dark] .colab-df-convert:hover {\n",
              "      background-color: #434B5C;\n",
              "      box-shadow: 0px 1px 3px 1px rgba(0, 0, 0, 0.15);\n",
              "      filter: drop-shadow(0px 1px 2px rgba(0, 0, 0, 0.3));\n",
              "      fill: #FFFFFF;\n",
              "    }\n",
              "  </style>\n",
              "\n",
              "      <script>\n",
              "        const buttonEl =\n",
              "          document.querySelector('#df-3e6280cd-ec26-439f-9231-6204558de9e4 button.colab-df-convert');\n",
              "        buttonEl.style.display =\n",
              "          google.colab.kernel.accessAllowed ? 'block' : 'none';\n",
              "\n",
              "        async function convertToInteractive(key) {\n",
              "          const element = document.querySelector('#df-3e6280cd-ec26-439f-9231-6204558de9e4');\n",
              "          const dataTable =\n",
              "            await google.colab.kernel.invokeFunction('convertToInteractive',\n",
              "                                                     [key], {});\n",
              "          if (!dataTable) return;\n",
              "\n",
              "          const docLinkHtml = 'Like what you see? Visit the ' +\n",
              "            '<a target=\"_blank\" href=https://colab.research.google.com/notebooks/data_table.ipynb>data table notebook</a>'\n",
              "            + ' to learn more about interactive tables.';\n",
              "          element.innerHTML = '';\n",
              "          dataTable['output_type'] = 'display_data';\n",
              "          await google.colab.output.renderOutput(dataTable, element);\n",
              "          const docLink = document.createElement('div');\n",
              "          docLink.innerHTML = docLinkHtml;\n",
              "          element.appendChild(docLink);\n",
              "        }\n",
              "      </script>\n",
              "    </div>\n",
              "  </div>\n"
            ]
          },
          "metadata": {},
          "execution_count": 22
        }
      ]
    },
    {
      "cell_type": "code",
      "source": [
        "plt.figure(figsize = (8,6))\n",
        "sns.heatmap(titanic_train_dummied.corr())"
      ],
      "metadata": {
        "colab": {
          "base_uri": "https://localhost:8080/",
          "height": 619
        },
        "id": "hfUy4gYwpUEQ",
        "outputId": "70c26359-3ad2-4358-c44e-fd484f7d3d1a"
      },
      "execution_count": 24,
      "outputs": [
        {
          "output_type": "execute_result",
          "data": {
            "text/plain": [
              "<Axes: >"
            ]
          },
          "metadata": {},
          "execution_count": 24
        },
        {
          "output_type": "display_data",
          "data": {
            "text/plain": [
              "<Figure size 800x600 with 2 Axes>"
            ],
            "image/png": "[encoded data removed]"
          },
          "metadata": {}
        }
      ]
    },
    {
      "cell_type": "code",
      "source": [
        "X = titanic_train_dummied.drop(['Survived'], axis = 1)\n",
        "y = titanic_train_dummied['Survived']"
      ],
      "metadata": {
        "id": "iFxKa79Zpq-o"
      },
      "execution_count": 45,
      "outputs": []
    },
    {
      "cell_type": "markdown",
      "source": [
        "## Model Building And Review"
      ],
      "metadata": {
        "id": "CyQ3ySGdwE5Q"
      }
    },
    {
      "cell_type": "code",
      "source": [
        "X_train, X_test, y_train, y_test = train_test_split(X, y, test_size=0.25)"
      ],
      "metadata": {
        "id": "w6nsvXsmsbJZ"
      },
      "execution_count": 46,
      "outputs": []
    },
    {
      "cell_type": "code",
      "source": [
        "print(X_train.shape)\n",
        "print(X_test.shape)\n",
        "print(y_train.shape)\n",
        "print(y_test.shape)"
      ],
      "metadata": {
        "colab": {
          "base_uri": "https://localhost:8080/"
        },
        "id": "GzKNiNCcsyxo",
        "outputId": "f8770553-e7d8-4dd4-d326-17eb22bd733a"
      },
      "execution_count": 47,
      "outputs": [
        {
          "output_type": "stream",
          "name": "stdout",
          "text": [
            "(666, 10)\n",
            "(223, 10)\n",
            "(666,)\n",
            "(223,)\n"
          ]
        }
      ]
    },
    {
      "cell_type": "code",
      "source": [
        "logreg = LogisticRegression(max_iter = 1000)"
      ],
      "metadata": {
        "id": "GG1XvnRxs8nA"
      },
      "execution_count": 48,
      "outputs": []
    },
    {
      "cell_type": "code",
      "source": [
        "logreg.fit(X_train, y_train)"
      ],
      "metadata": {
        "colab": {
          "base_uri": "https://localhost:8080/",
          "height": 75
        },
        "id": "X8dq6WgFtBgZ",
        "outputId": "41c2c394-31f0-4e31-b5a9-9916f85f837b"
      },
      "execution_count": 49,
      "outputs": [
        {
          "output_type": "execute_result",
          "data": {
            "text/plain": [
              "LogisticRegression(max_iter=1000)"
            ],
            "text/html": [
              "<style>#sk-container-id-4 {color: black;background-color: white;}#sk-container-id-4 pre{padding: 0;}#sk-container-id-4 div.sk-toggleable {background-color: white;}#sk-container-id-4 label.sk-toggleable__label {cursor: pointer;display: block;width: 100%;margin-bottom: 0;padding: 0.3em;box-sizing: border-box;text-align: center;}#sk-container-id-4 label.sk-toggleable__label-arrow:before {content: \"▸\";float: left;margin-right: 0.25em;color: #696969;}#sk-container-id-4 label.sk-toggleable__label-arrow:hover:before {color: black;}#sk-container-id-4 div.sk-estimator:hover label.sk-toggleable__label-arrow:before {color: black;}#sk-container-id-4 div.sk-toggleable__content {max-height: 0;max-width: 0;overflow: hidden;text-align: left;background-color: #f0f8ff;}#sk-container-id-4 div.sk-toggleable__content pre {margin: 0.2em;color: black;border-radius: 0.25em;background-color: #f0f8ff;}#sk-container-id-4 input.sk-toggleable__control:checked~div.sk-toggleable__content {max-height: 200px;max-width: 100%;overflow: auto;}#sk-container-id-4 input.sk-toggleable__control:checked~label.sk-toggleable__label-arrow:before {content: \"▾\";}#sk-container-id-4 div.sk-estimator input.sk-toggleable__control:checked~label.sk-toggleable__label {background-color: #d4ebff;}#sk-container-id-4 div.sk-label input.sk-toggleable__control:checked~label.sk-toggleable__label {background-color: #d4ebff;}#sk-container-id-4 input.sk-hidden--visually {border: 0;clip: rect(1px 1px 1px 1px);clip: rect(1px, 1px, 1px, 1px);height: 1px;margin: -1px;overflow: hidden;padding: 0;position: absolute;width: 1px;}#sk-container-id-4 div.sk-estimator {font-family: monospace;background-color: #f0f8ff;border: 1px dotted black;border-radius: 0.25em;box-sizing: border-box;margin-bottom: 0.5em;}#sk-container-id-4 div.sk-estimator:hover {background-color: #d4ebff;}#sk-container-id-4 div.sk-parallel-item::after {content: \"\";width: 100%;border-bottom: 1px solid gray;flex-grow: 1;}#sk-container-id-4 div.sk-label:hover label.sk-toggleable__label {background-color: #d4ebff;}#sk-container-id-4 div.sk-serial::before {content: \"\";position: absolute;border-left: 1px solid gray;box-sizing: border-box;top: 0;bottom: 0;left: 50%;z-index: 0;}#sk-container-id-4 div.sk-serial {display: flex;flex-direction: column;align-items: center;background-color: white;padding-right: 0.2em;padding-left: 0.2em;position: relative;}#sk-container-id-4 div.sk-item {position: relative;z-index: 1;}#sk-container-id-4 div.sk-parallel {display: flex;align-items: stretch;justify-content: center;background-color: white;position: relative;}#sk-container-id-4 div.sk-item::before, #sk-container-id-4 div.sk-parallel-item::before {content: \"\";position: absolute;border-left: 1px solid gray;box-sizing: border-box;top: 0;bottom: 0;left: 50%;z-index: -1;}#sk-container-id-4 div.sk-parallel-item {display: flex;flex-direction: column;z-index: 1;position: relative;background-color: white;}#sk-container-id-4 div.sk-parallel-item:first-child::after {align-self: flex-end;width: 50%;}#sk-container-id-4 div.sk-parallel-item:last-child::after {align-self: flex-start;width: 50%;}#sk-container-id-4 div.sk-parallel-item:only-child::after {width: 0;}#sk-container-id-4 div.sk-dashed-wrapped {border: 1px dashed gray;margin: 0 0.4em 0.5em 0.4em;box-sizing: border-box;padding-bottom: 0.4em;background-color: white;}#sk-container-id-4 div.sk-label label {font-family: monospace;font-weight: bold;display: inline-block;line-height: 1.2em;}#sk-container-id-4 div.sk-label-container {text-align: center;}#sk-container-id-4 div.sk-container {/* jupyter's `normalize.less` sets `[hidden] { display: none; }` but bootstrap.min.css set `[hidden] { display: none !important; }` so we also need the `!important` here to be able to override the default hidden behavior on the sphinx rendered scikit-learn.org. See: https://github.com/scikit-learn/scikit-learn/issues/21755 */display: inline-block !important;position: relative;}#sk-container-id-4 div.sk-text-repr-fallback {display: none;}</style><div id=\"sk-container-id-4\" class=\"sk-top-container\"><div class=\"sk-text-repr-fallback\"><pre>LogisticRegression(max_iter=1000)</pre><b>In a Jupyter environment, please rerun this cell to show the HTML representation or trust the notebook. <br />On GitHub, the HTML representation is unable to render, please try loading this page with nbviewer.org.</b></div><div class=\"sk-container\" hidden><div class=\"sk-item\"><div class=\"sk-estimator sk-toggleable\"><input class=\"sk-toggleable__control sk-hidden--visually\" id=\"sk-estimator-id-4\" type=\"checkbox\" checked><label for=\"sk-estimator-id-4\" class=\"sk-toggleable__label sk-toggleable__label-arrow\">LogisticRegression</label><div class=\"sk-toggleable__content\"><pre>LogisticRegression(max_iter=1000)</pre></div></div></div></div></div>"
            ]
          },
          "metadata": {},
          "execution_count": 49
        }
      ]
    },
    {
      "cell_type": "code",
      "source": [
        "yhat = logreg.predict(X_test)"
      ],
      "metadata": {
        "id": "BKAJN4DNtJyQ"
      },
      "execution_count": 50,
      "outputs": []
    },
    {
      "cell_type": "code",
      "source": [
        "confusion_matrix(y_test,yhat)"
      ],
      "metadata": {
        "colab": {
          "base_uri": "https://localhost:8080/"
        },
        "id": "7S06Mc4ttdWJ",
        "outputId": "11ad6fda-182e-43bf-955d-d0704e2bd831"
      },
      "execution_count": 51,
      "outputs": [
        {
          "output_type": "execute_result",
          "data": {
            "text/plain": [
              "array([[125,  12],\n",
              "       [ 19,  67]])"
            ]
          },
          "metadata": {},
          "execution_count": 51
        }
      ]
    },
    {
      "cell_type": "code",
      "source": [
        "accuracy_score(y_test,yhat)"
      ],
      "metadata": {
        "colab": {
          "base_uri": "https://localhost:8080/"
        },
        "id": "xEtuGjwAtsfp",
        "outputId": "6413a3db-e361-4f86-8e29-cd7dd7e5b27a"
      },
      "execution_count": 52,
      "outputs": [
        {
          "output_type": "execute_result",
          "data": {
            "text/plain": [
              "0.8609865470852018"
            ]
          },
          "metadata": {},
          "execution_count": 52
        }
      ]
    },
    {
      "cell_type": "code",
      "source": [
        "print(classification_report(y_test,yhat))"
      ],
      "metadata": {
        "colab": {
          "base_uri": "https://localhost:8080/"
        },
        "id": "0lFoE7qrtwiJ",
        "outputId": "b1807e21-3667-4b14-f94f-0842cd4c149d"
      },
      "execution_count": 53,
      "outputs": [
        {
          "output_type": "stream",
          "name": "stdout",
          "text": [
            "              precision    recall  f1-score   support\n",
            "\n",
            "           0       0.87      0.91      0.89       137\n",
            "           1       0.85      0.78      0.81        86\n",
            "\n",
            "    accuracy                           0.86       223\n",
            "   macro avg       0.86      0.85      0.85       223\n",
            "weighted avg       0.86      0.86      0.86       223\n",
            "\n"
          ]
        }
      ]
    },
    {
      "cell_type": "code",
      "source": [
        "logreg.coef_"
      ],
      "metadata": {
        "colab": {
          "base_uri": "https://localhost:8080/"
        },
        "id": "96P1Ryk8uRuJ",
        "outputId": "a98aee77-13b0-4c76-eb7c-5632e3216aee"
      },
      "execution_count": 54,
      "outputs": [
        {
          "output_type": "execute_result",
          "data": {
            "text/plain": [
              "array([[-1.17827659e+00, -4.44667232e-02, -2.65277602e-01,\n",
              "        -1.94129576e-02,  1.15818759e-03,  2.36070449e-01,\n",
              "         4.33648959e-03, -1.97922790e-01,  1.20775022e+00,\n",
              "        -1.16526607e+00]])"
            ]
          },
          "metadata": {},
          "execution_count": 54
        }
      ]
    },
    {
      "cell_type": "code",
      "source": [
        "logreg.intercept_"
      ],
      "metadata": {
        "colab": {
          "base_uri": "https://localhost:8080/"
        },
        "id": "cKGdBnIlvVSw",
        "outputId": "bcae8a37-86d7-4803-9c74-bdf93b17ca47"
      },
      "execution_count": 55,
      "outputs": [
        {
          "output_type": "execute_result",
          "data": {
            "text/plain": [
              "array([3.91124282])"
            ]
          },
          "metadata": {},
          "execution_count": 55
        }
      ]
    },
    {
      "cell_type": "code",
      "source": [
        "logreg.predict_proba(X_test)"
      ],
      "metadata": {
        "colab": {
          "base_uri": "https://localhost:8080/"
        },
        "id": "W6qlf2_1vXOQ",
        "outputId": "4d5fd41f-9b95-4fea-e4b0-c9a4f1d4d8dc"
      },
      "execution_count": 56,
      "outputs": [
        {
          "output_type": "execute_result",
          "data": {
            "text/plain": [
              "array([[0.08047289, 0.91952711],\n",
              "       [0.93441853, 0.06558147],\n",
              "       [0.91162886, 0.08837114],\n",
              "       [0.29645871, 0.70354129],\n",
              "       [0.83363563, 0.16636437],\n",
              "       [0.90011255, 0.09988745],\n",
              "       [0.84975456, 0.15024544],\n",
              "       [0.06308987, 0.93691013],\n",
              "       [0.2919343 , 0.7080657 ],\n",
              "       [0.21633677, 0.78366323],\n",
              "       [0.26118524, 0.73881476],\n",
              "       [0.87625719, 0.12374281],\n",
              "       [0.86327267, 0.13672733],\n",
              "       [0.60082207, 0.39917793],\n",
              "       [0.87618531, 0.12381469],\n",
              "       [0.88552376, 0.11447624],\n",
              "       [0.88175699, 0.11824301],\n",
              "       [0.63115548, 0.36884452],\n",
              "       [0.96086394, 0.03913606],\n",
              "       [0.91857823, 0.08142177],\n",
              "       [0.8554316 , 0.1445684 ],\n",
              "       [0.85546801, 0.14453199],\n",
              "       [0.45530468, 0.54469532],\n",
              "       [0.65237263, 0.34762737],\n",
              "       [0.32478583, 0.67521417],\n",
              "       [0.87119566, 0.12880434],\n",
              "       [0.86327551, 0.13672449],\n",
              "       [0.74705708, 0.25294292],\n",
              "       [0.89827768, 0.10172232],\n",
              "       [0.91687414, 0.08312586],\n",
              "       [0.97345256, 0.02654744],\n",
              "       [0.37041801, 0.62958199],\n",
              "       [0.9558944 , 0.0441056 ],\n",
              "       [0.6688253 , 0.3311747 ],\n",
              "       [0.03309798, 0.96690202],\n",
              "       [0.87111008, 0.12888992],\n",
              "       [0.88254753, 0.11745247],\n",
              "       [0.53742244, 0.46257756],\n",
              "       [0.863382  , 0.136618  ],\n",
              "       [0.54155579, 0.45844421],\n",
              "       [0.3555982 , 0.6444018 ],\n",
              "       [0.92949097, 0.07050903],\n",
              "       [0.8619574 , 0.1380426 ],\n",
              "       [0.03853011, 0.96146989],\n",
              "       [0.8854063 , 0.1145937 ],\n",
              "       [0.17092262, 0.82907738],\n",
              "       [0.3704529 , 0.6295471 ],\n",
              "       [0.25639144, 0.74360856],\n",
              "       [0.61963385, 0.38036615],\n",
              "       [0.9842412 , 0.0157588 ],\n",
              "       [0.90612304, 0.09387696],\n",
              "       [0.66608337, 0.33391663],\n",
              "       [0.89966317, 0.10033683],\n",
              "       [0.95159125, 0.04840875],\n",
              "       [0.76633462, 0.23366538],\n",
              "       [0.13098088, 0.86901912],\n",
              "       [0.04042971, 0.95957029],\n",
              "       [0.07523138, 0.92476862],\n",
              "       [0.61293985, 0.38706015],\n",
              "       [0.75536698, 0.24463302],\n",
              "       [0.65624618, 0.34375382],\n",
              "       [0.79232377, 0.20767623],\n",
              "       [0.52527196, 0.47472804],\n",
              "       [0.9474184 , 0.0525816 ],\n",
              "       [0.39724024, 0.60275976],\n",
              "       [0.46570934, 0.53429066],\n",
              "       [0.87590548, 0.12409452],\n",
              "       [0.92801313, 0.07198687],\n",
              "       [0.59382842, 0.40617158],\n",
              "       [0.48913609, 0.51086391],\n",
              "       [0.06104973, 0.93895027],\n",
              "       [0.56088179, 0.43911821],\n",
              "       [0.64697896, 0.35302104],\n",
              "       [0.44036774, 0.55963226],\n",
              "       [0.83363563, 0.16636437],\n",
              "       [0.86611235, 0.13388765],\n",
              "       [0.83363496, 0.16636504],\n",
              "       [0.80937899, 0.19062101],\n",
              "       [0.30882911, 0.69117089],\n",
              "       [0.4294756 , 0.5705244 ],\n",
              "       [0.25540734, 0.74459266],\n",
              "       [0.6280297 , 0.3719703 ],\n",
              "       [0.81944451, 0.18055549],\n",
              "       [0.28808644, 0.71191356],\n",
              "       [0.7634903 , 0.2365097 ],\n",
              "       [0.79226634, 0.20773366],\n",
              "       [0.03954956, 0.96045044],\n",
              "       [0.72155326, 0.27844674],\n",
              "       [0.88542441, 0.11457559],\n",
              "       [0.93883944, 0.06116056],\n",
              "       [0.45144907, 0.54855093],\n",
              "       [0.92018527, 0.07981473],\n",
              "       [0.11188656, 0.88811344],\n",
              "       [0.12060587, 0.87939413],\n",
              "       [0.95556668, 0.04443332],\n",
              "       [0.208482  , 0.791518  ],\n",
              "       [0.94478526, 0.05521474],\n",
              "       [0.82093316, 0.17906684],\n",
              "       [0.8710313 , 0.1289687 ],\n",
              "       [0.6940395 , 0.3059605 ],\n",
              "       [0.90892738, 0.09107262],\n",
              "       [0.91230724, 0.08769276],\n",
              "       [0.45863854, 0.54136146],\n",
              "       [0.52706879, 0.47293121],\n",
              "       [0.41552346, 0.58447654],\n",
              "       [0.59988337, 0.40011663],\n",
              "       [0.55094301, 0.44905699],\n",
              "       [0.82654318, 0.17345682],\n",
              "       [0.8854063 , 0.1145937 ],\n",
              "       [0.04022816, 0.95977184],\n",
              "       [0.88542441, 0.11457559],\n",
              "       [0.14625319, 0.85374681],\n",
              "       [0.808493  , 0.191507  ],\n",
              "       [0.78516635, 0.21483365],\n",
              "       [0.6562737 , 0.3437263 ],\n",
              "       [0.43193207, 0.56806793],\n",
              "       [0.89414198, 0.10585802],\n",
              "       [0.88081805, 0.11918195],\n",
              "       [0.73772853, 0.26227147],\n",
              "       [0.8853343 , 0.1146657 ],\n",
              "       [0.45673669, 0.54326331],\n",
              "       [0.89497287, 0.10502713],\n",
              "       [0.04949421, 0.95050579],\n",
              "       [0.20163987, 0.79836013],\n",
              "       [0.6774595 , 0.3225405 ],\n",
              "       [0.39724717, 0.60275283],\n",
              "       [0.88084052, 0.11915948],\n",
              "       [0.33358033, 0.66641967],\n",
              "       [0.93483412, 0.06516588],\n",
              "       [0.92933001, 0.07066999],\n",
              "       [0.59011114, 0.40988886],\n",
              "       [0.52694884, 0.47305116],\n",
              "       [0.65719396, 0.34280604],\n",
              "       [0.88542441, 0.11457559],\n",
              "       [0.54573211, 0.45426789],\n",
              "       [0.74215412, 0.25784588],\n",
              "       [0.43193207, 0.56806793],\n",
              "       [0.90982123, 0.09017877],\n",
              "       [0.18614087, 0.81385913],\n",
              "       [0.88549293, 0.11450707],\n",
              "       [0.8028272 , 0.1971728 ],\n",
              "       [0.19045163, 0.80954837],\n",
              "       [0.22198707, 0.77801293],\n",
              "       [0.86608605, 0.13391395],\n",
              "       [0.96909233, 0.03090767],\n",
              "       [0.7124202 , 0.2875798 ],\n",
              "       [0.93893464, 0.06106536],\n",
              "       [0.87115992, 0.12884008],\n",
              "       [0.86086569, 0.13913431],\n",
              "       [0.10475002, 0.89524998],\n",
              "       [0.06537889, 0.93462111],\n",
              "       [0.45420503, 0.54579497],\n",
              "       [0.25535808, 0.74464192],\n",
              "       [0.8854063 , 0.1145937 ],\n",
              "       [0.88542441, 0.11457559],\n",
              "       [0.45249181, 0.54750819],\n",
              "       [0.08616313, 0.91383687],\n",
              "       [0.39743595, 0.60256405],\n",
              "       [0.13934465, 0.86065535],\n",
              "       [0.12116898, 0.87883102],\n",
              "       [0.46273052, 0.53726948],\n",
              "       [0.3704529 , 0.6295471 ],\n",
              "       [0.93005782, 0.06994218],\n",
              "       [0.75536698, 0.24463302],\n",
              "       [0.84390416, 0.15609584],\n",
              "       [0.56106006, 0.43893994],\n",
              "       [0.80126904, 0.19873096],\n",
              "       [0.88542441, 0.11457559],\n",
              "       [0.91686789, 0.08313211],\n",
              "       [0.74830813, 0.25169187],\n",
              "       [0.38667761, 0.61332239],\n",
              "       [0.3091514 , 0.6908486 ],\n",
              "       [0.93513278, 0.06486722],\n",
              "       [0.19324913, 0.80675087],\n",
              "       [0.88542441, 0.11457559],\n",
              "       [0.94732601, 0.05267399],\n",
              "       [0.42566629, 0.57433371],\n",
              "       [0.3108997 , 0.6891003 ],\n",
              "       [0.43193207, 0.56806793],\n",
              "       [0.07471327, 0.92528673],\n",
              "       [0.37872541, 0.62127459],\n",
              "       [0.6175753 , 0.3824247 ],\n",
              "       [0.18792513, 0.81207487],\n",
              "       [0.04653188, 0.95346812],\n",
              "       [0.85956859, 0.14043141],\n",
              "       [0.86327267, 0.13672733],\n",
              "       [0.9431983 , 0.0568017 ],\n",
              "       [0.74760383, 0.25239617],\n",
              "       [0.83352785, 0.16647215],\n",
              "       [0.75590163, 0.24409837],\n",
              "       [0.13907778, 0.86092222],\n",
              "       [0.89189708, 0.10810292],\n",
              "       [0.87108027, 0.12891973],\n",
              "       [0.859947  , 0.140053  ],\n",
              "       [0.37045741, 0.62954259],\n",
              "       [0.95738837, 0.04261163],\n",
              "       [0.74989159, 0.25010841],\n",
              "       [0.8467534 , 0.1532466 ],\n",
              "       [0.2154933 , 0.7845067 ],\n",
              "       [0.55961201, 0.44038799],\n",
              "       [0.88753444, 0.11246556],\n",
              "       [0.05218903, 0.94781097],\n",
              "       [0.05321715, 0.94678285],\n",
              "       [0.72539033, 0.27460967],\n",
              "       [0.20830943, 0.79169057],\n",
              "       [0.86089978, 0.13910022],\n",
              "       [0.33573   , 0.66427   ],\n",
              "       [0.90227372, 0.09772628],\n",
              "       [0.10634817, 0.89365183],\n",
              "       [0.55832717, 0.44167283],\n",
              "       [0.86326184, 0.13673816],\n",
              "       [0.90276721, 0.09723279],\n",
              "       [0.86622032, 0.13377968],\n",
              "       [0.91140575, 0.08859425],\n",
              "       [0.16784836, 0.83215164],\n",
              "       [0.41257226, 0.58742774],\n",
              "       [0.60619172, 0.39380828],\n",
              "       [0.83501106, 0.16498894],\n",
              "       [0.36671702, 0.63328298],\n",
              "       [0.92779323, 0.07220677],\n",
              "       [0.8854063 , 0.1145937 ],\n",
              "       [0.31725776, 0.68274224],\n",
              "       [0.86327267, 0.13672733]])"
            ]
          },
          "metadata": {},
          "execution_count": 56
        }
      ]
    }
  ]
}